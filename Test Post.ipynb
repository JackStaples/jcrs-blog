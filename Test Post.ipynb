{
 "cells": [
  {
   "cell_type": "markdown",
   "id": "63c282b1",
   "metadata": {},
   "source": [
    "# \"Test Post\"\n",
    "> \"This is a test post to see what I can do\"\n",
    "\n",
    "- toc: false\n",
    "- branch: master\n",
    "- badges: true\n",
    "- comments: true\n",
    "- categories: [fastpages, jupyter]\n",
    "- image: images/some_folder/your_image.png\n",
    "- hide: false\n",
    "- search_exclude: true\n",
    "- metadata_key1: metadata_value1\n",
    "- metadata_key2: metadata_value2"
   ]
  },
  {
   "cell_type": "code",
   "execution_count": 1,
   "id": "be859441",
   "metadata": {},
   "outputs": [
    {
     "name": "stdout",
     "output_type": "stream",
     "text": [
      "This is a test commit, will this appear?\n"
     ]
    }
   ],
   "source": [
    "print(\"This is a test commit, will this appear?\")"
   ]
  },
  {
   "cell_type": "markdown",
   "id": "624f69f3",
   "metadata": {},
   "source": [
    "# Test header\n",
    "This is a test post, what does it look like? Will something show up?"
   ]
  }
 ],
 "metadata": {
  "kernelspec": {
   "display_name": "Python 3 (ipykernel)",
   "language": "python",
   "name": "python3"
  },
  "language_info": {
   "codemirror_mode": {
    "name": "ipython",
    "version": 3
   },
   "file_extension": ".py",
   "mimetype": "text/x-python",
   "name": "python",
   "nbconvert_exporter": "python",
   "pygments_lexer": "ipython3",
   "version": "3.9.6"
  }
 },
 "nbformat": 4,
 "nbformat_minor": 5
}
